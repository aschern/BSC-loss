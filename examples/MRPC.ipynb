{
 "cells": [
  {
   "cell_type": "raw",
   "metadata": {},
   "source": [
    "!python download_glue_data.py --data_dir datasets --tasks MRPC"
   ]
  },
  {
   "cell_type": "code",
   "execution_count": null,
   "metadata": {},
   "outputs": [],
   "source": [
    "import sys\n",
    "sys.path.insert(0, \"../lib\")\n",
    "\n",
    "from STSDataReaderBinary import STSDataReaderBinary\n",
    "from STSDataReaderBinaryPositives import STSDataReaderBinaryPositives\n",
    "from BSCLoss import BSCLoss, ComboBSCLoss\n",
    "from BSCShuffler import ShuffledSentencesDataset, ShuffledSentenceTransformer\n",
    "from BSCShuffler import BSCShuffler, ModelBSCShuffler, ModelExampleBasedShuffler\n",
    "\n",
    "from torch.utils.data import DataLoader\n",
    "import math\n",
    "import os\n",
    "from sentence_transformers import models, losses\n",
    "from sentence_transformers import SentencesDataset, LoggingHandler, SentenceTransformer, evaluation\n",
    "from sentence_transformers.evaluation import EmbeddingSimilarityEvaluator, TripletEvaluator, SimilarityFunction\n",
    "from evaluator import BinaryClassificationEvaluator\n",
    "from sentence_transformers.readers import *\n",
    "import pandas as pd\n",
    "import logging\n",
    "import csv\n",
    "\n",
    "#### Just some code to print debug information to stdout\n",
    "logging.basicConfig(format='%(asctime)s - %(message)s',\n",
    "                    datefmt='%Y-%m-%d %H:%M:%S',\n",
    "                    level=logging.INFO,\n",
    "                    handlers=[LoggingHandler()])\n",
    "\n",
    "num_runs = 5"
   ]
  },
  {
   "cell_type": "raw",
   "metadata": {},
   "source": [
    "# shuffle by clusters\n",
    "bsc_shuffler = BSCShuffler('datasets/MRPC/train.tsv', 'datasets/MRPC/train_shuffled_clusters.tsv', \n",
    "                            column_name=3, group_size=15, max_ind=4, by_clusters=True, num_neighbors=300)\n",
    "bsc_shuffler.shuffle()"
   ]
  },
  {
   "cell_type": "code",
   "execution_count": null,
   "metadata": {},
   "outputs": [],
   "source": [
    "with open('intervals_estimates/metrics-MRPC.txt', 'a+') as f:\n",
    "    f.write('\\n')\n",
    "    f.write('combo, shuffled 4-same, 2e-5, bias False, norm 1, tau_lr 0.1, mu 0.1, 6 epochs\\n')\n",
    "for _ in range(num_runs):\n",
    "    word_embedding_model = models.Transformer('bert-base-uncased', max_seq_length=90)\n",
    "    pooling_model = models.Pooling(word_embedding_model.get_word_embedding_dimension(),\n",
    "                                   pooling_mode_mean_tokens=True,\n",
    "                                   pooling_mode_cls_token=False,\n",
    "                                   pooling_mode_max_tokens=False)\n",
    "\n",
    "    model = ShuffledSentenceTransformer(modules=[word_embedding_model, pooling_model])\n",
    "\n",
    "    sts_reader_pos = STSDataReaderBinaryPositives('datasets/MRPC', quoting=csv.QUOTE_NONE, \n",
    "                                                  s1_col_idx=3, s2_col_idx=4, score_col_idx=0,\n",
    "                                                  normalize_scores=False, thr=0.6, get_positives=False)\n",
    "\n",
    "    sts_reader = STSDataReader('datasets/MRPC', s1_col_idx=3, s2_col_idx=4, score_col_idx=0, normalize_scores=False)\n",
    "\n",
    "    train_batch_size = 30\n",
    "    num_epochs = 6\n",
    "\n",
    "    train_data_bsc = ShuffledSentencesDataset(sts_reader_pos.get_examples('train.tsv'), model)\n",
    "    train_dataloader_bsc = DataLoader(train_data_bsc, shuffle=False, batch_size=train_batch_size)\n",
    "    train_loss_bsc = CombobscLoss(model=model, norm_dim=1, mu=0.1, tau=0.1)\n",
    "\n",
    "    train_data = SentencesDataset(sts_reader.get_examples('train.tsv'), model)\n",
    "    train_dataloader = DataLoader(train_data, shuffle=True, batch_size=train_batch_size)\n",
    "    train_loss = losses.CosineSimilarityLoss(model=model)\n",
    "    dev_sentences1 = []\n",
    "    dev_sentences2 = []\n",
    "    dev_labels = []\n",
    "    with open(os.path.join('datasets/MRPC', \"dev.tsv\"), encoding='utf8') as fIn:\n",
    "        for row in fIn:\n",
    "            row = row.split('\\t')\n",
    "            dev_sentences1.append(row[3])\n",
    "            dev_sentences2.append(row[4])\n",
    "            dev_labels.append(int(row[0]))\n",
    "    binary_acc_evaluator = BinaryClassificationEvaluator(dev_sentences1, dev_sentences2, dev_labels)\n",
    "    binary_acc_evaluator.main_similarity = SimilarityFunction.COSINE\n",
    "\n",
    "    warmup_steps = math.ceil(len(train_data)*num_epochs/train_batch_size*0.1)\n",
    "    model_save_path = 'checkpoints/bsc_mrpc'\n",
    "\n",
    "    shuffler = ModelExampleBasedShuffler(group_size=3, allow_same=True)\n",
    "\n",
    "    get_ipython().system(\"rm -rf 'checkpoints/bsc_mrpc'\")\n",
    "\n",
    "    model.fit(train_objectives=[(train_dataloader_bsc, train_loss_bsc)],\n",
    "              evaluator=binary_acc_evaluator,\n",
    "              epochs=num_epochs,\n",
    "              evaluation_steps=1000,\n",
    "              warmup_steps=warmup_steps,\n",
    "              optimizer_params={'alpha_lr': 0.1, 'lr': 2e-5, 'eps': 1e-6, 'correct_bias': False},\n",
    "              output_path=model_save_path,\n",
    "              output_path_ignore_not_empty=True,\n",
    "              shuffler=shuffler,\n",
    "              shuffle_idxs=[0]\n",
    "             )\n",
    "\n",
    "    model = SentenceTransformer('checkpoints/bsc_mrpc')\n",
    "    metric = model.evaluate(binary_acc_evaluator)\n",
    "    with open('intervals_estimates/metrics-MRPC.txt', 'a+') as f:\n",
    "        f.write(str(metric) + '\\n')"
   ]
  }
 ],
 "metadata": {
  "kernelspec": {
   "display_name": "Python 3",
   "language": "python",
   "name": "python3"
  },
  "language_info": {
   "codemirror_mode": {
    "name": "ipython",
    "version": 3
   },
   "file_extension": ".py",
   "mimetype": "text/x-python",
   "name": "python",
   "nbconvert_exporter": "python",
   "pygments_lexer": "ipython3",
   "version": "3.7.3"
  }
 },
 "nbformat": 4,
 "nbformat_minor": 2
}
